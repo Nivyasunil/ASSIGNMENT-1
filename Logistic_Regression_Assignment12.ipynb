{
  "nbformat": 4,
  "nbformat_minor": 0,
  "metadata": {
    "colab": {
      "name": "Logistic_Regression_Assignment12.ipynb",
      "provenance": [],
      "include_colab_link": true
    },
    "kernelspec": {
      "name": "python3",
      "display_name": "Python 3"
    },
    "language_info": {
      "name": "python"
    }
  },
  "cells": [
    {
      "cell_type": "markdown",
      "metadata": {
        "id": "view-in-github",
        "colab_type": "text"
      },
      "source": [
        "<a href=\"https://colab.research.google.com/github/Nivyasunil/ASSIGNMENT-1/blob/main/Logistic_Regression_Assignment12.ipynb\" target=\"_parent\"><img src=\"https://colab.research.google.com/assets/colab-badge.svg\" alt=\"Open In Colab\"/></a>"
      ]
    },
    {
      "cell_type": "code",
      "metadata": {
        "id": "xugUQsM_jkbL"
      },
      "source": [
        "# Social_Network_Ads.csv"
      ],
      "execution_count": null,
      "outputs": []
    },
    {
      "cell_type": "markdown",
      "metadata": {
        "id": "t_YJ-uqLmRuD"
      },
      "source": [
        "This dataset contains information of users in a social network. Those informations are the user id the gender the age and the estimated salary. A car company has just launched their brand new luxury SUV. And we're trying to see which of these users of the social network are going to buy this brand new SUV And the last column here tells If yes or no the user bought this SUV we are going to build a model that is going to predict if a user is going to buy or not the SUV based on two variables which are going to be the age and the estimated salary. So our matrix of feature is only going to be these two columns. We want to find some correlations between the age and the estimated salary of a user and his decision to purchase yes or no the SUV.\n"
      ]
    },
    {
      "cell_type": "markdown",
      "metadata": {
        "id": "sgTgwccsk5Yu"
      },
      "source": [
        "**Step 1 | Data Pre-Processing**"
      ]
    },
    {
      "cell_type": "markdown",
      "metadata": {
        "id": "bKWN0MOblEKa"
      },
      "source": [
        "**Importing the Libraries**"
      ]
    },
    {
      "cell_type": "code",
      "metadata": {
        "id": "8cIjONoJj8u0"
      },
      "source": [
        "\n",
        "import pandas as pd\n",
        "import numpy as np\n",
        "import matplotlib.pyplot as plt\n",
        "import seaborn as sns"
      ],
      "execution_count": null,
      "outputs": []
    },
    {
      "cell_type": "code",
      "metadata": {
        "id": "2QZwg6ypj8xs"
      },
      "source": [
        "import pandas as pd # handle the data\n",
        "from sklearn.model_selection import train_test_split # split the data\n",
        "\n",
        "from sklearn import metrics # evaluation metrics\n",
        "import seaborn as sn # plotting the data\n",
        "import matplotlib.pyplot as plt # plotting the data"
      ],
      "execution_count": null,
      "outputs": []
    },
    {
      "cell_type": "markdown",
      "metadata": {
        "id": "bM9O8a0YlNWk"
      },
      "source": [
        "**Importing the dataset**"
      ]
    },
    {
      "cell_type": "code",
      "metadata": {
        "id": "vfPLWJHRlM-4"
      },
      "source": [
        "df=pd.read_csv('Social_Network_Ads.csv')"
      ],
      "execution_count": null,
      "outputs": []
    },
    {
      "cell_type": "code",
      "metadata": {
        "id": "8LWipIjDj7yn",
        "colab": {
          "base_uri": "https://localhost:8080/",
          "height": 423
        },
        "outputId": "69702b29-0fb8-46b4-d604-0dff49dba2b9"
      },
      "source": [
        "df"
      ],
      "execution_count": null,
      "outputs": [
        {
          "output_type": "execute_result",
          "data": {
            "text/plain": [
              "      User ID  Gender  Age  EstimatedSalary  Purchased\n",
              "0    15624510    Male   19            19000          0\n",
              "1    15810944    Male   35            20000          0\n",
              "2    15668575  Female   26            43000          0\n",
              "3    15603246  Female   27            57000          0\n",
              "4    15804002    Male   19            76000          0\n",
              "..        ...     ...  ...              ...        ...\n",
              "395  15691863  Female   46            41000          1\n",
              "396  15706071    Male   51            23000          1\n",
              "397  15654296  Female   50            20000          1\n",
              "398  15755018    Male   36            33000          0\n",
              "399  15594041  Female   49            36000          1\n",
              "\n",
              "[400 rows x 5 columns]"
            ],
            "text/html": [
              "\n",
              "  <div id=\"df-2ab8ef09-c6fa-45bd-bf4c-cf93a62bc139\">\n",
              "    <div class=\"colab-df-container\">\n",
              "      <div>\n",
              "<style scoped>\n",
              "    .dataframe tbody tr th:only-of-type {\n",
              "        vertical-align: middle;\n",
              "    }\n",
              "\n",
              "    .dataframe tbody tr th {\n",
              "        vertical-align: top;\n",
              "    }\n",
              "\n",
              "    .dataframe thead th {\n",
              "        text-align: right;\n",
              "    }\n",
              "</style>\n",
              "<table border=\"1\" class=\"dataframe\">\n",
              "  <thead>\n",
              "    <tr style=\"text-align: right;\">\n",
              "      <th></th>\n",
              "      <th>User ID</th>\n",
              "      <th>Gender</th>\n",
              "      <th>Age</th>\n",
              "      <th>EstimatedSalary</th>\n",
              "      <th>Purchased</th>\n",
              "    </tr>\n",
              "  </thead>\n",
              "  <tbody>\n",
              "    <tr>\n",
              "      <th>0</th>\n",
              "      <td>15624510</td>\n",
              "      <td>Male</td>\n",
              "      <td>19</td>\n",
              "      <td>19000</td>\n",
              "      <td>0</td>\n",
              "    </tr>\n",
              "    <tr>\n",
              "      <th>1</th>\n",
              "      <td>15810944</td>\n",
              "      <td>Male</td>\n",
              "      <td>35</td>\n",
              "      <td>20000</td>\n",
              "      <td>0</td>\n",
              "    </tr>\n",
              "    <tr>\n",
              "      <th>2</th>\n",
              "      <td>15668575</td>\n",
              "      <td>Female</td>\n",
              "      <td>26</td>\n",
              "      <td>43000</td>\n",
              "      <td>0</td>\n",
              "    </tr>\n",
              "    <tr>\n",
              "      <th>3</th>\n",
              "      <td>15603246</td>\n",
              "      <td>Female</td>\n",
              "      <td>27</td>\n",
              "      <td>57000</td>\n",
              "      <td>0</td>\n",
              "    </tr>\n",
              "    <tr>\n",
              "      <th>4</th>\n",
              "      <td>15804002</td>\n",
              "      <td>Male</td>\n",
              "      <td>19</td>\n",
              "      <td>76000</td>\n",
              "      <td>0</td>\n",
              "    </tr>\n",
              "    <tr>\n",
              "      <th>...</th>\n",
              "      <td>...</td>\n",
              "      <td>...</td>\n",
              "      <td>...</td>\n",
              "      <td>...</td>\n",
              "      <td>...</td>\n",
              "    </tr>\n",
              "    <tr>\n",
              "      <th>395</th>\n",
              "      <td>15691863</td>\n",
              "      <td>Female</td>\n",
              "      <td>46</td>\n",
              "      <td>41000</td>\n",
              "      <td>1</td>\n",
              "    </tr>\n",
              "    <tr>\n",
              "      <th>396</th>\n",
              "      <td>15706071</td>\n",
              "      <td>Male</td>\n",
              "      <td>51</td>\n",
              "      <td>23000</td>\n",
              "      <td>1</td>\n",
              "    </tr>\n",
              "    <tr>\n",
              "      <th>397</th>\n",
              "      <td>15654296</td>\n",
              "      <td>Female</td>\n",
              "      <td>50</td>\n",
              "      <td>20000</td>\n",
              "      <td>1</td>\n",
              "    </tr>\n",
              "    <tr>\n",
              "      <th>398</th>\n",
              "      <td>15755018</td>\n",
              "      <td>Male</td>\n",
              "      <td>36</td>\n",
              "      <td>33000</td>\n",
              "      <td>0</td>\n",
              "    </tr>\n",
              "    <tr>\n",
              "      <th>399</th>\n",
              "      <td>15594041</td>\n",
              "      <td>Female</td>\n",
              "      <td>49</td>\n",
              "      <td>36000</td>\n",
              "      <td>1</td>\n",
              "    </tr>\n",
              "  </tbody>\n",
              "</table>\n",
              "<p>400 rows × 5 columns</p>\n",
              "</div>\n",
              "      <button class=\"colab-df-convert\" onclick=\"convertToInteractive('df-2ab8ef09-c6fa-45bd-bf4c-cf93a62bc139')\"\n",
              "              title=\"Convert this dataframe to an interactive table.\"\n",
              "              style=\"display:none;\">\n",
              "        \n",
              "  <svg xmlns=\"http://www.w3.org/2000/svg\" height=\"24px\"viewBox=\"0 0 24 24\"\n",
              "       width=\"24px\">\n",
              "    <path d=\"M0 0h24v24H0V0z\" fill=\"none\"/>\n",
              "    <path d=\"M18.56 5.44l.94 2.06.94-2.06 2.06-.94-2.06-.94-.94-2.06-.94 2.06-2.06.94zm-11 1L8.5 8.5l.94-2.06 2.06-.94-2.06-.94L8.5 2.5l-.94 2.06-2.06.94zm10 10l.94 2.06.94-2.06 2.06-.94-2.06-.94-.94-2.06-.94 2.06-2.06.94z\"/><path d=\"M17.41 7.96l-1.37-1.37c-.4-.4-.92-.59-1.43-.59-.52 0-1.04.2-1.43.59L10.3 9.45l-7.72 7.72c-.78.78-.78 2.05 0 2.83L4 21.41c.39.39.9.59 1.41.59.51 0 1.02-.2 1.41-.59l7.78-7.78 2.81-2.81c.8-.78.8-2.07 0-2.86zM5.41 20L4 18.59l7.72-7.72 1.47 1.35L5.41 20z\"/>\n",
              "  </svg>\n",
              "      </button>\n",
              "      \n",
              "  <style>\n",
              "    .colab-df-container {\n",
              "      display:flex;\n",
              "      flex-wrap:wrap;\n",
              "      gap: 12px;\n",
              "    }\n",
              "\n",
              "    .colab-df-convert {\n",
              "      background-color: #E8F0FE;\n",
              "      border: none;\n",
              "      border-radius: 50%;\n",
              "      cursor: pointer;\n",
              "      display: none;\n",
              "      fill: #1967D2;\n",
              "      height: 32px;\n",
              "      padding: 0 0 0 0;\n",
              "      width: 32px;\n",
              "    }\n",
              "\n",
              "    .colab-df-convert:hover {\n",
              "      background-color: #E2EBFA;\n",
              "      box-shadow: 0px 1px 2px rgba(60, 64, 67, 0.3), 0px 1px 3px 1px rgba(60, 64, 67, 0.15);\n",
              "      fill: #174EA6;\n",
              "    }\n",
              "\n",
              "    [theme=dark] .colab-df-convert {\n",
              "      background-color: #3B4455;\n",
              "      fill: #D2E3FC;\n",
              "    }\n",
              "\n",
              "    [theme=dark] .colab-df-convert:hover {\n",
              "      background-color: #434B5C;\n",
              "      box-shadow: 0px 1px 3px 1px rgba(0, 0, 0, 0.15);\n",
              "      filter: drop-shadow(0px 1px 2px rgba(0, 0, 0, 0.3));\n",
              "      fill: #FFFFFF;\n",
              "    }\n",
              "  </style>\n",
              "\n",
              "      <script>\n",
              "        const buttonEl =\n",
              "          document.querySelector('#df-2ab8ef09-c6fa-45bd-bf4c-cf93a62bc139 button.colab-df-convert');\n",
              "        buttonEl.style.display =\n",
              "          google.colab.kernel.accessAllowed ? 'block' : 'none';\n",
              "\n",
              "        async function convertToInteractive(key) {\n",
              "          const element = document.querySelector('#df-2ab8ef09-c6fa-45bd-bf4c-cf93a62bc139');\n",
              "          const dataTable =\n",
              "            await google.colab.kernel.invokeFunction('convertToInteractive',\n",
              "                                                     [key], {});\n",
              "          if (!dataTable) return;\n",
              "\n",
              "          const docLinkHtml = 'Like what you see? Visit the ' +\n",
              "            '<a target=\"_blank\" href=https://colab.research.google.com/notebooks/data_table.ipynb>data table notebook</a>'\n",
              "            + ' to learn more about interactive tables.';\n",
              "          element.innerHTML = '';\n",
              "          dataTable['output_type'] = 'display_data';\n",
              "          await google.colab.output.renderOutput(dataTable, element);\n",
              "          const docLink = document.createElement('div');\n",
              "          docLink.innerHTML = docLinkHtml;\n",
              "          element.appendChild(docLink);\n",
              "        }\n",
              "      </script>\n",
              "    </div>\n",
              "  </div>\n",
              "  "
            ]
          },
          "metadata": {},
          "execution_count": 4
        }
      ]
    },
    {
      "cell_type": "code",
      "source": [
        "df.shape"
      ],
      "metadata": {
        "colab": {
          "base_uri": "https://localhost:8080/"
        },
        "id": "VCj-k3Mnmk3I",
        "outputId": "3135c480-08cd-41b4-e9e2-7a4323f5d871"
      },
      "execution_count": null,
      "outputs": [
        {
          "output_type": "execute_result",
          "data": {
            "text/plain": [
              "(400, 5)"
            ]
          },
          "metadata": {},
          "execution_count": 5
        }
      ]
    },
    {
      "cell_type": "code",
      "source": [
        "df.isnull().sum()"
      ],
      "metadata": {
        "colab": {
          "base_uri": "https://localhost:8080/"
        },
        "id": "v_h7fuRCmk5t",
        "outputId": "ec17cc9b-5b19-44c5-acf9-682bfdc0fa85"
      },
      "execution_count": null,
      "outputs": [
        {
          "output_type": "execute_result",
          "data": {
            "text/plain": [
              "User ID            0\n",
              "Gender             0\n",
              "Age                0\n",
              "EstimatedSalary    0\n",
              "Purchased          0\n",
              "dtype: int64"
            ]
          },
          "metadata": {},
          "execution_count": 6
        }
      ]
    },
    {
      "cell_type": "code",
      "source": [
        "df.describe()"
      ],
      "metadata": {
        "colab": {
          "base_uri": "https://localhost:8080/",
          "height": 300
        },
        "id": "xQN351QQmslw",
        "outputId": "a9a4f996-2474-4caa-9aad-7e158a27a528"
      },
      "execution_count": null,
      "outputs": [
        {
          "output_type": "execute_result",
          "data": {
            "text/plain": [
              "            User ID         Age  EstimatedSalary   Purchased\n",
              "count  4.000000e+02  400.000000       400.000000  400.000000\n",
              "mean   1.569154e+07   37.655000     69742.500000    0.357500\n",
              "std    7.165832e+04   10.482877     34096.960282    0.479864\n",
              "min    1.556669e+07   18.000000     15000.000000    0.000000\n",
              "25%    1.562676e+07   29.750000     43000.000000    0.000000\n",
              "50%    1.569434e+07   37.000000     70000.000000    0.000000\n",
              "75%    1.575036e+07   46.000000     88000.000000    1.000000\n",
              "max    1.581524e+07   60.000000    150000.000000    1.000000"
            ],
            "text/html": [
              "\n",
              "  <div id=\"df-e7559b27-e6d6-4862-b62c-9a75bf2f4c4b\">\n",
              "    <div class=\"colab-df-container\">\n",
              "      <div>\n",
              "<style scoped>\n",
              "    .dataframe tbody tr th:only-of-type {\n",
              "        vertical-align: middle;\n",
              "    }\n",
              "\n",
              "    .dataframe tbody tr th {\n",
              "        vertical-align: top;\n",
              "    }\n",
              "\n",
              "    .dataframe thead th {\n",
              "        text-align: right;\n",
              "    }\n",
              "</style>\n",
              "<table border=\"1\" class=\"dataframe\">\n",
              "  <thead>\n",
              "    <tr style=\"text-align: right;\">\n",
              "      <th></th>\n",
              "      <th>User ID</th>\n",
              "      <th>Age</th>\n",
              "      <th>EstimatedSalary</th>\n",
              "      <th>Purchased</th>\n",
              "    </tr>\n",
              "  </thead>\n",
              "  <tbody>\n",
              "    <tr>\n",
              "      <th>count</th>\n",
              "      <td>4.000000e+02</td>\n",
              "      <td>400.000000</td>\n",
              "      <td>400.000000</td>\n",
              "      <td>400.000000</td>\n",
              "    </tr>\n",
              "    <tr>\n",
              "      <th>mean</th>\n",
              "      <td>1.569154e+07</td>\n",
              "      <td>37.655000</td>\n",
              "      <td>69742.500000</td>\n",
              "      <td>0.357500</td>\n",
              "    </tr>\n",
              "    <tr>\n",
              "      <th>std</th>\n",
              "      <td>7.165832e+04</td>\n",
              "      <td>10.482877</td>\n",
              "      <td>34096.960282</td>\n",
              "      <td>0.479864</td>\n",
              "    </tr>\n",
              "    <tr>\n",
              "      <th>min</th>\n",
              "      <td>1.556669e+07</td>\n",
              "      <td>18.000000</td>\n",
              "      <td>15000.000000</td>\n",
              "      <td>0.000000</td>\n",
              "    </tr>\n",
              "    <tr>\n",
              "      <th>25%</th>\n",
              "      <td>1.562676e+07</td>\n",
              "      <td>29.750000</td>\n",
              "      <td>43000.000000</td>\n",
              "      <td>0.000000</td>\n",
              "    </tr>\n",
              "    <tr>\n",
              "      <th>50%</th>\n",
              "      <td>1.569434e+07</td>\n",
              "      <td>37.000000</td>\n",
              "      <td>70000.000000</td>\n",
              "      <td>0.000000</td>\n",
              "    </tr>\n",
              "    <tr>\n",
              "      <th>75%</th>\n",
              "      <td>1.575036e+07</td>\n",
              "      <td>46.000000</td>\n",
              "      <td>88000.000000</td>\n",
              "      <td>1.000000</td>\n",
              "    </tr>\n",
              "    <tr>\n",
              "      <th>max</th>\n",
              "      <td>1.581524e+07</td>\n",
              "      <td>60.000000</td>\n",
              "      <td>150000.000000</td>\n",
              "      <td>1.000000</td>\n",
              "    </tr>\n",
              "  </tbody>\n",
              "</table>\n",
              "</div>\n",
              "      <button class=\"colab-df-convert\" onclick=\"convertToInteractive('df-e7559b27-e6d6-4862-b62c-9a75bf2f4c4b')\"\n",
              "              title=\"Convert this dataframe to an interactive table.\"\n",
              "              style=\"display:none;\">\n",
              "        \n",
              "  <svg xmlns=\"http://www.w3.org/2000/svg\" height=\"24px\"viewBox=\"0 0 24 24\"\n",
              "       width=\"24px\">\n",
              "    <path d=\"M0 0h24v24H0V0z\" fill=\"none\"/>\n",
              "    <path d=\"M18.56 5.44l.94 2.06.94-2.06 2.06-.94-2.06-.94-.94-2.06-.94 2.06-2.06.94zm-11 1L8.5 8.5l.94-2.06 2.06-.94-2.06-.94L8.5 2.5l-.94 2.06-2.06.94zm10 10l.94 2.06.94-2.06 2.06-.94-2.06-.94-.94-2.06-.94 2.06-2.06.94z\"/><path d=\"M17.41 7.96l-1.37-1.37c-.4-.4-.92-.59-1.43-.59-.52 0-1.04.2-1.43.59L10.3 9.45l-7.72 7.72c-.78.78-.78 2.05 0 2.83L4 21.41c.39.39.9.59 1.41.59.51 0 1.02-.2 1.41-.59l7.78-7.78 2.81-2.81c.8-.78.8-2.07 0-2.86zM5.41 20L4 18.59l7.72-7.72 1.47 1.35L5.41 20z\"/>\n",
              "  </svg>\n",
              "      </button>\n",
              "      \n",
              "  <style>\n",
              "    .colab-df-container {\n",
              "      display:flex;\n",
              "      flex-wrap:wrap;\n",
              "      gap: 12px;\n",
              "    }\n",
              "\n",
              "    .colab-df-convert {\n",
              "      background-color: #E8F0FE;\n",
              "      border: none;\n",
              "      border-radius: 50%;\n",
              "      cursor: pointer;\n",
              "      display: none;\n",
              "      fill: #1967D2;\n",
              "      height: 32px;\n",
              "      padding: 0 0 0 0;\n",
              "      width: 32px;\n",
              "    }\n",
              "\n",
              "    .colab-df-convert:hover {\n",
              "      background-color: #E2EBFA;\n",
              "      box-shadow: 0px 1px 2px rgba(60, 64, 67, 0.3), 0px 1px 3px 1px rgba(60, 64, 67, 0.15);\n",
              "      fill: #174EA6;\n",
              "    }\n",
              "\n",
              "    [theme=dark] .colab-df-convert {\n",
              "      background-color: #3B4455;\n",
              "      fill: #D2E3FC;\n",
              "    }\n",
              "\n",
              "    [theme=dark] .colab-df-convert:hover {\n",
              "      background-color: #434B5C;\n",
              "      box-shadow: 0px 1px 3px 1px rgba(0, 0, 0, 0.15);\n",
              "      filter: drop-shadow(0px 1px 2px rgba(0, 0, 0, 0.3));\n",
              "      fill: #FFFFFF;\n",
              "    }\n",
              "  </style>\n",
              "\n",
              "      <script>\n",
              "        const buttonEl =\n",
              "          document.querySelector('#df-e7559b27-e6d6-4862-b62c-9a75bf2f4c4b button.colab-df-convert');\n",
              "        buttonEl.style.display =\n",
              "          google.colab.kernel.accessAllowed ? 'block' : 'none';\n",
              "\n",
              "        async function convertToInteractive(key) {\n",
              "          const element = document.querySelector('#df-e7559b27-e6d6-4862-b62c-9a75bf2f4c4b');\n",
              "          const dataTable =\n",
              "            await google.colab.kernel.invokeFunction('convertToInteractive',\n",
              "                                                     [key], {});\n",
              "          if (!dataTable) return;\n",
              "\n",
              "          const docLinkHtml = 'Like what you see? Visit the ' +\n",
              "            '<a target=\"_blank\" href=https://colab.research.google.com/notebooks/data_table.ipynb>data table notebook</a>'\n",
              "            + ' to learn more about interactive tables.';\n",
              "          element.innerHTML = '';\n",
              "          dataTable['output_type'] = 'display_data';\n",
              "          await google.colab.output.renderOutput(dataTable, element);\n",
              "          const docLink = document.createElement('div');\n",
              "          docLink.innerHTML = docLinkHtml;\n",
              "          element.appendChild(docLink);\n",
              "        }\n",
              "      </script>\n",
              "    </div>\n",
              "  </div>\n",
              "  "
            ]
          },
          "metadata": {},
          "execution_count": 7
        }
      ]
    },
    {
      "cell_type": "code",
      "source": [
        "df.info()"
      ],
      "metadata": {
        "colab": {
          "base_uri": "https://localhost:8080/"
        },
        "id": "IjSdc1YBmxbP",
        "outputId": "45a63210-c67b-4d85-d56e-649f42eddedc"
      },
      "execution_count": null,
      "outputs": [
        {
          "output_type": "stream",
          "name": "stdout",
          "text": [
            "<class 'pandas.core.frame.DataFrame'>\n",
            "RangeIndex: 400 entries, 0 to 399\n",
            "Data columns (total 5 columns):\n",
            " #   Column           Non-Null Count  Dtype \n",
            "---  ------           --------------  ----- \n",
            " 0   User ID          400 non-null    int64 \n",
            " 1   Gender           400 non-null    object\n",
            " 2   Age              400 non-null    int64 \n",
            " 3   EstimatedSalary  400 non-null    int64 \n",
            " 4   Purchased        400 non-null    int64 \n",
            "dtypes: int64(4), object(1)\n",
            "memory usage: 15.8+ KB\n"
          ]
        }
      ]
    },
    {
      "cell_type": "code",
      "source": [
        "import seaborn as sns\n",
        "plt.figure(figsize=(10, 8))\n",
        "sns.scatterplot(x='Age', y='EstimatedSalary', hue='Purchased', data=df, s=200)\n",
        "plt.title(\"social network ads\", y=1.015, fontsize=20)\n",
        "plt.xlabel(\"age\", labelpad=13)\n",
        "plt.ylabel(\"salary\", labelpad=13)\n",
        "ax = plt.gca()"
      ],
      "metadata": {
        "colab": {
          "base_uri": "https://localhost:8080/",
          "height": 533
        },
        "id": "kgne_j5Tmk9o",
        "outputId": "a0c5a4eb-100f-4449-cdd9-ec092bdd0e90"
      },
      "execution_count": null,
      "outputs": [
        {
          "output_type": "display_data",
          "data": {
            "text/plain": [
              "<Figure size 720x576 with 1 Axes>"
            ],
            "image/png": "[encoded data removed]"
          },
          "metadata": {
            "needs_background": "light"
          }
        }
      ]
    },
    {
      "cell_type": "markdown",
      "source": [
        "1) High age and high salary = > purchased 2) there is a linear decision boundary =? good to go with LR model"
      ],
      "metadata": {
        "id": "7Y7m2mGuni_R"
      }
    },
    {
      "cell_type": "code",
      "source": [
        "df.head()"
      ],
      "metadata": {
        "colab": {
          "base_uri": "https://localhost:8080/",
          "height": 206
        },
        "id": "kU4AW-KDmk__",
        "outputId": "b784f865-fcc5-4e20-9721-defa6336629b"
      },
      "execution_count": null,
      "outputs": [
        {
          "output_type": "execute_result",
          "data": {
            "text/plain": [
              "    User ID  Gender  Age  EstimatedSalary  Purchased\n",
              "0  15624510    Male   19            19000          0\n",
              "1  15810944    Male   35            20000          0\n",
              "2  15668575  Female   26            43000          0\n",
              "3  15603246  Female   27            57000          0\n",
              "4  15804002    Male   19            76000          0"
            ],
            "text/html": [
              "\n",
              "  <div id=\"df-9cdf4ee3-82b6-4579-9608-9524d93c02bf\">\n",
              "    <div class=\"colab-df-container\">\n",
              "      <div>\n",
              "<style scoped>\n",
              "    .dataframe tbody tr th:only-of-type {\n",
              "        vertical-align: middle;\n",
              "    }\n",
              "\n",
              "    .dataframe tbody tr th {\n",
              "        vertical-align: top;\n",
              "    }\n",
              "\n",
              "    .dataframe thead th {\n",
              "        text-align: right;\n",
              "    }\n",
              "</style>\n",
              "<table border=\"1\" class=\"dataframe\">\n",
              "  <thead>\n",
              "    <tr style=\"text-align: right;\">\n",
              "      <th></th>\n",
              "      <th>User ID</th>\n",
              "      <th>Gender</th>\n",
              "      <th>Age</th>\n",
              "      <th>EstimatedSalary</th>\n",
              "      <th>Purchased</th>\n",
              "    </tr>\n",
              "  </thead>\n",
              "  <tbody>\n",
              "    <tr>\n",
              "      <th>0</th>\n",
              "      <td>15624510</td>\n",
              "      <td>Male</td>\n",
              "      <td>19</td>\n",
              "      <td>19000</td>\n",
              "      <td>0</td>\n",
              "    </tr>\n",
              "    <tr>\n",
              "      <th>1</th>\n",
              "      <td>15810944</td>\n",
              "      <td>Male</td>\n",
              "      <td>35</td>\n",
              "      <td>20000</td>\n",
              "      <td>0</td>\n",
              "    </tr>\n",
              "    <tr>\n",
              "      <th>2</th>\n",
              "      <td>15668575</td>\n",
              "      <td>Female</td>\n",
              "      <td>26</td>\n",
              "      <td>43000</td>\n",
              "      <td>0</td>\n",
              "    </tr>\n",
              "    <tr>\n",
              "      <th>3</th>\n",
              "      <td>15603246</td>\n",
              "      <td>Female</td>\n",
              "      <td>27</td>\n",
              "      <td>57000</td>\n",
              "      <td>0</td>\n",
              "    </tr>\n",
              "    <tr>\n",
              "      <th>4</th>\n",
              "      <td>15804002</td>\n",
              "      <td>Male</td>\n",
              "      <td>19</td>\n",
              "      <td>76000</td>\n",
              "      <td>0</td>\n",
              "    </tr>\n",
              "  </tbody>\n",
              "</table>\n",
              "</div>\n",
              "      <button class=\"colab-df-convert\" onclick=\"convertToInteractive('df-9cdf4ee3-82b6-4579-9608-9524d93c02bf')\"\n",
              "              title=\"Convert this dataframe to an interactive table.\"\n",
              "              style=\"display:none;\">\n",
              "        \n",
              "  <svg xmlns=\"http://www.w3.org/2000/svg\" height=\"24px\"viewBox=\"0 0 24 24\"\n",
              "       width=\"24px\">\n",
              "    <path d=\"M0 0h24v24H0V0z\" fill=\"none\"/>\n",
              "    <path d=\"M18.56 5.44l.94 2.06.94-2.06 2.06-.94-2.06-.94-.94-2.06-.94 2.06-2.06.94zm-11 1L8.5 8.5l.94-2.06 2.06-.94-2.06-.94L8.5 2.5l-.94 2.06-2.06.94zm10 10l.94 2.06.94-2.06 2.06-.94-2.06-.94-.94-2.06-.94 2.06-2.06.94z\"/><path d=\"M17.41 7.96l-1.37-1.37c-.4-.4-.92-.59-1.43-.59-.52 0-1.04.2-1.43.59L10.3 9.45l-7.72 7.72c-.78.78-.78 2.05 0 2.83L4 21.41c.39.39.9.59 1.41.59.51 0 1.02-.2 1.41-.59l7.78-7.78 2.81-2.81c.8-.78.8-2.07 0-2.86zM5.41 20L4 18.59l7.72-7.72 1.47 1.35L5.41 20z\"/>\n",
              "  </svg>\n",
              "      </button>\n",
              "      \n",
              "  <style>\n",
              "    .colab-df-container {\n",
              "      display:flex;\n",
              "      flex-wrap:wrap;\n",
              "      gap: 12px;\n",
              "    }\n",
              "\n",
              "    .colab-df-convert {\n",
              "      background-color: #E8F0FE;\n",
              "      border: none;\n",
              "      border-radius: 50%;\n",
              "      cursor: pointer;\n",
              "      display: none;\n",
              "      fill: #1967D2;\n",
              "      height: 32px;\n",
              "      padding: 0 0 0 0;\n",
              "      width: 32px;\n",
              "    }\n",
              "\n",
              "    .colab-df-convert:hover {\n",
              "      background-color: #E2EBFA;\n",
              "      box-shadow: 0px 1px 2px rgba(60, 64, 67, 0.3), 0px 1px 3px 1px rgba(60, 64, 67, 0.15);\n",
              "      fill: #174EA6;\n",
              "    }\n",
              "\n",
              "    [theme=dark] .colab-df-convert {\n",
              "      background-color: #3B4455;\n",
              "      fill: #D2E3FC;\n",
              "    }\n",
              "\n",
              "    [theme=dark] .colab-df-convert:hover {\n",
              "      background-color: #434B5C;\n",
              "      box-shadow: 0px 1px 3px 1px rgba(0, 0, 0, 0.15);\n",
              "      filter: drop-shadow(0px 1px 2px rgba(0, 0, 0, 0.3));\n",
              "      fill: #FFFFFF;\n",
              "    }\n",
              "  </style>\n",
              "\n",
              "      <script>\n",
              "        const buttonEl =\n",
              "          document.querySelector('#df-9cdf4ee3-82b6-4579-9608-9524d93c02bf button.colab-df-convert');\n",
              "        buttonEl.style.display =\n",
              "          google.colab.kernel.accessAllowed ? 'block' : 'none';\n",
              "\n",
              "        async function convertToInteractive(key) {\n",
              "          const element = document.querySelector('#df-9cdf4ee3-82b6-4579-9608-9524d93c02bf');\n",
              "          const dataTable =\n",
              "            await google.colab.kernel.invokeFunction('convertToInteractive',\n",
              "                                                     [key], {});\n",
              "          if (!dataTable) return;\n",
              "\n",
              "          const docLinkHtml = 'Like what you see? Visit the ' +\n",
              "            '<a target=\"_blank\" href=https://colab.research.google.com/notebooks/data_table.ipynb>data table notebook</a>'\n",
              "            + ' to learn more about interactive tables.';\n",
              "          element.innerHTML = '';\n",
              "          dataTable['output_type'] = 'display_data';\n",
              "          await google.colab.output.renderOutput(dataTable, element);\n",
              "          const docLink = document.createElement('div');\n",
              "          docLink.innerHTML = docLinkHtml;\n",
              "          element.appendChild(docLink);\n",
              "        }\n",
              "      </script>\n",
              "    </div>\n",
              "  </div>\n",
              "  "
            ]
          },
          "metadata": {},
          "execution_count": 10
        }
      ]
    },
    {
      "cell_type": "code",
      "source": [
        "del df['User ID']\n"
      ],
      "metadata": {
        "id": "g6R_H8TloDaR"
      },
      "execution_count": null,
      "outputs": []
    },
    {
      "cell_type": "code",
      "source": [
        "df['Gender']=df['Gender'].map({'Male':1,\"Female\":0})"
      ],
      "metadata": {
        "id": "ZRjWEJ6PoQy5"
      },
      "execution_count": null,
      "outputs": []
    },
    {
      "cell_type": "code",
      "source": [
        "df"
      ],
      "metadata": {
        "colab": {
          "base_uri": "https://localhost:8080/",
          "height": 423
        },
        "id": "cckDYzCLoDcm",
        "outputId": "c323613f-7a49-4e9c-97a2-9ed35e1d4aec"
      },
      "execution_count": null,
      "outputs": [
        {
          "output_type": "execute_result",
          "data": {
            "text/plain": [
              "     Gender  Age  EstimatedSalary  Purchased\n",
              "0         1   19            19000          0\n",
              "1         1   35            20000          0\n",
              "2         0   26            43000          0\n",
              "3         0   27            57000          0\n",
              "4         1   19            76000          0\n",
              "..      ...  ...              ...        ...\n",
              "395       0   46            41000          1\n",
              "396       1   51            23000          1\n",
              "397       0   50            20000          1\n",
              "398       1   36            33000          0\n",
              "399       0   49            36000          1\n",
              "\n",
              "[400 rows x 4 columns]"
            ],
            "text/html": [
              "\n",
              "  <div id=\"df-0bef04cc-17f4-4857-8d10-8f1d6e3d6d23\">\n",
              "    <div class=\"colab-df-container\">\n",
              "      <div>\n",
              "<style scoped>\n",
              "    .dataframe tbody tr th:only-of-type {\n",
              "        vertical-align: middle;\n",
              "    }\n",
              "\n",
              "    .dataframe tbody tr th {\n",
              "        vertical-align: top;\n",
              "    }\n",
              "\n",
              "    .dataframe thead th {\n",
              "        text-align: right;\n",
              "    }\n",
              "</style>\n",
              "<table border=\"1\" class=\"dataframe\">\n",
              "  <thead>\n",
              "    <tr style=\"text-align: right;\">\n",
              "      <th></th>\n",
              "      <th>Gender</th>\n",
              "      <th>Age</th>\n",
              "      <th>EstimatedSalary</th>\n",
              "      <th>Purchased</th>\n",
              "    </tr>\n",
              "  </thead>\n",
              "  <tbody>\n",
              "    <tr>\n",
              "      <th>0</th>\n",
              "      <td>1</td>\n",
              "      <td>19</td>\n",
              "      <td>19000</td>\n",
              "      <td>0</td>\n",
              "    </tr>\n",
              "    <tr>\n",
              "      <th>1</th>\n",
              "      <td>1</td>\n",
              "      <td>35</td>\n",
              "      <td>20000</td>\n",
              "      <td>0</td>\n",
              "    </tr>\n",
              "    <tr>\n",
              "      <th>2</th>\n",
              "      <td>0</td>\n",
              "      <td>26</td>\n",
              "      <td>43000</td>\n",
              "      <td>0</td>\n",
              "    </tr>\n",
              "    <tr>\n",
              "      <th>3</th>\n",
              "      <td>0</td>\n",
              "      <td>27</td>\n",
              "      <td>57000</td>\n",
              "      <td>0</td>\n",
              "    </tr>\n",
              "    <tr>\n",
              "      <th>4</th>\n",
              "      <td>1</td>\n",
              "      <td>19</td>\n",
              "      <td>76000</td>\n",
              "      <td>0</td>\n",
              "    </tr>\n",
              "    <tr>\n",
              "      <th>...</th>\n",
              "      <td>...</td>\n",
              "      <td>...</td>\n",
              "      <td>...</td>\n",
              "      <td>...</td>\n",
              "    </tr>\n",
              "    <tr>\n",
              "      <th>395</th>\n",
              "      <td>0</td>\n",
              "      <td>46</td>\n",
              "      <td>41000</td>\n",
              "      <td>1</td>\n",
              "    </tr>\n",
              "    <tr>\n",
              "      <th>396</th>\n",
              "      <td>1</td>\n",
              "      <td>51</td>\n",
              "      <td>23000</td>\n",
              "      <td>1</td>\n",
              "    </tr>\n",
              "    <tr>\n",
              "      <th>397</th>\n",
              "      <td>0</td>\n",
              "      <td>50</td>\n",
              "      <td>20000</td>\n",
              "      <td>1</td>\n",
              "    </tr>\n",
              "    <tr>\n",
              "      <th>398</th>\n",
              "      <td>1</td>\n",
              "      <td>36</td>\n",
              "      <td>33000</td>\n",
              "      <td>0</td>\n",
              "    </tr>\n",
              "    <tr>\n",
              "      <th>399</th>\n",
              "      <td>0</td>\n",
              "      <td>49</td>\n",
              "      <td>36000</td>\n",
              "      <td>1</td>\n",
              "    </tr>\n",
              "  </tbody>\n",
              "</table>\n",
              "<p>400 rows × 4 columns</p>\n",
              "</div>\n",
              "      <button class=\"colab-df-convert\" onclick=\"convertToInteractive('df-0bef04cc-17f4-4857-8d10-8f1d6e3d6d23')\"\n",
              "              title=\"Convert this dataframe to an interactive table.\"\n",
              "              style=\"display:none;\">\n",
              "        \n",
              "  <svg xmlns=\"http://www.w3.org/2000/svg\" height=\"24px\"viewBox=\"0 0 24 24\"\n",
              "       width=\"24px\">\n",
              "    <path d=\"M0 0h24v24H0V0z\" fill=\"none\"/>\n",
              "    <path d=\"M18.56 5.44l.94 2.06.94-2.06 2.06-.94-2.06-.94-.94-2.06-.94 2.06-2.06.94zm-11 1L8.5 8.5l.94-2.06 2.06-.94-2.06-.94L8.5 2.5l-.94 2.06-2.06.94zm10 10l.94 2.06.94-2.06 2.06-.94-2.06-.94-.94-2.06-.94 2.06-2.06.94z\"/><path d=\"M17.41 7.96l-1.37-1.37c-.4-.4-.92-.59-1.43-.59-.52 0-1.04.2-1.43.59L10.3 9.45l-7.72 7.72c-.78.78-.78 2.05 0 2.83L4 21.41c.39.39.9.59 1.41.59.51 0 1.02-.2 1.41-.59l7.78-7.78 2.81-2.81c.8-.78.8-2.07 0-2.86zM5.41 20L4 18.59l7.72-7.72 1.47 1.35L5.41 20z\"/>\n",
              "  </svg>\n",
              "      </button>\n",
              "      \n",
              "  <style>\n",
              "    .colab-df-container {\n",
              "      display:flex;\n",
              "      flex-wrap:wrap;\n",
              "      gap: 12px;\n",
              "    }\n",
              "\n",
              "    .colab-df-convert {\n",
              "      background-color: #E8F0FE;\n",
              "      border: none;\n",
              "      border-radius: 50%;\n",
              "      cursor: pointer;\n",
              "      display: none;\n",
              "      fill: #1967D2;\n",
              "      height: 32px;\n",
              "      padding: 0 0 0 0;\n",
              "      width: 32px;\n",
              "    }\n",
              "\n",
              "    .colab-df-convert:hover {\n",
              "      background-color: #E2EBFA;\n",
              "      box-shadow: 0px 1px 2px rgba(60, 64, 67, 0.3), 0px 1px 3px 1px rgba(60, 64, 67, 0.15);\n",
              "      fill: #174EA6;\n",
              "    }\n",
              "\n",
              "    [theme=dark] .colab-df-convert {\n",
              "      background-color: #3B4455;\n",
              "      fill: #D2E3FC;\n",
              "    }\n",
              "\n",
              "    [theme=dark] .colab-df-convert:hover {\n",
              "      background-color: #434B5C;\n",
              "      box-shadow: 0px 1px 3px 1px rgba(0, 0, 0, 0.15);\n",
              "      filter: drop-shadow(0px 1px 2px rgba(0, 0, 0, 0.3));\n",
              "      fill: #FFFFFF;\n",
              "    }\n",
              "  </style>\n",
              "\n",
              "      <script>\n",
              "        const buttonEl =\n",
              "          document.querySelector('#df-0bef04cc-17f4-4857-8d10-8f1d6e3d6d23 button.colab-df-convert');\n",
              "        buttonEl.style.display =\n",
              "          google.colab.kernel.accessAllowed ? 'block' : 'none';\n",
              "\n",
              "        async function convertToInteractive(key) {\n",
              "          const element = document.querySelector('#df-0bef04cc-17f4-4857-8d10-8f1d6e3d6d23');\n",
              "          const dataTable =\n",
              "            await google.colab.kernel.invokeFunction('convertToInteractive',\n",
              "                                                     [key], {});\n",
              "          if (!dataTable) return;\n",
              "\n",
              "          const docLinkHtml = 'Like what you see? Visit the ' +\n",
              "            '<a target=\"_blank\" href=https://colab.research.google.com/notebooks/data_table.ipynb>data table notebook</a>'\n",
              "            + ' to learn more about interactive tables.';\n",
              "          element.innerHTML = '';\n",
              "          dataTable['output_type'] = 'display_data';\n",
              "          await google.colab.output.renderOutput(dataTable, element);\n",
              "          const docLink = document.createElement('div');\n",
              "          docLink.innerHTML = docLinkHtml;\n",
              "          element.appendChild(docLink);\n",
              "        }\n",
              "      </script>\n",
              "    </div>\n",
              "  </div>\n",
              "  "
            ]
          },
          "metadata": {},
          "execution_count": 14
        }
      ]
    },
    {
      "cell_type": "markdown",
      "metadata": {
        "id": "eHCKYPHylT5K"
      },
      "source": [
        "**Splitting the dataset into the Training set and Test set**"
      ]
    },
    {
      "cell_type": "code",
      "metadata": {
        "id": "o9msgi0sj72h"
      },
      "source": [
        "X = df[['Gender', 'Age','EstimatedSalary']].values # fts\n",
        "y = df['Purchased'].values # target\n",
        "X_train,X_test,y_train,y_test = train_test_split(X,y,test_size=0.25,random_state=0) # train- test split"
      ],
      "execution_count": null,
      "outputs": []
    },
    {
      "cell_type": "code",
      "source": [
        "X_test"
      ],
      "metadata": {
        "colab": {
          "base_uri": "https://localhost:8080/"
        },
        "id": "ux0a6APSoti7",
        "outputId": "736d98f4-5fb3-48f5-cb69-a75d3b752201"
      },
      "execution_count": null,
      "outputs": [
        {
          "output_type": "execute_result",
          "data": {
            "text/plain": [
              "array([[     1,     30,  87000],\n",
              "       [     0,     38,  50000],\n",
              "       [     1,     35,  75000],\n",
              "       [     0,     30,  79000],\n",
              "       [     0,     35,  50000],\n",
              "       [     1,     27,  20000],\n",
              "       [     0,     31,  15000],\n",
              "       [     1,     36, 144000],\n",
              "       [     0,     18,  68000],\n",
              "       [     1,     47,  43000],\n",
              "       [     1,     30,  49000],\n",
              "       [     0,     28,  55000],\n",
              "       [     1,     37,  55000],\n",
              "       [     1,     39,  77000],\n",
              "       [     1,     20,  86000],\n",
              "       [     0,     32, 117000],\n",
              "       [     1,     37,  77000],\n",
              "       [     1,     19,  85000],\n",
              "       [     0,     55, 130000],\n",
              "       [     1,     35,  22000],\n",
              "       [     0,     35,  47000],\n",
              "       [     0,     47, 144000],\n",
              "       [     0,     41,  51000],\n",
              "       [     1,     47, 105000],\n",
              "       [     0,     23,  28000],\n",
              "       [     0,     49, 141000],\n",
              "       [     0,     28,  87000],\n",
              "       [     1,     29,  80000],\n",
              "       [     0,     37,  62000],\n",
              "       [     0,     32,  86000],\n",
              "       [     1,     21,  88000],\n",
              "       [     1,     37,  79000],\n",
              "       [     1,     57,  60000],\n",
              "       [     1,     37,  53000],\n",
              "       [     1,     24,  58000],\n",
              "       [     1,     18,  52000],\n",
              "       [     1,     22,  81000],\n",
              "       [     0,     34,  43000],\n",
              "       [     0,     31,  34000],\n",
              "       [     0,     49,  36000],\n",
              "       [     1,     27,  88000],\n",
              "       [     1,     41,  52000],\n",
              "       [     0,     27,  84000],\n",
              "       [     1,     35,  20000],\n",
              "       [     0,     43, 112000],\n",
              "       [     0,     27,  58000],\n",
              "       [     0,     37,  80000],\n",
              "       [     0,     52,  90000],\n",
              "       [     1,     26,  30000],\n",
              "       [     1,     49,  86000],\n",
              "       [     0,     57, 122000],\n",
              "       [     0,     34,  25000],\n",
              "       [     0,     35,  57000],\n",
              "       [     1,     34, 115000],\n",
              "       [     0,     59,  88000],\n",
              "       [     1,     45,  32000],\n",
              "       [     0,     29,  83000],\n",
              "       [     0,     26,  80000],\n",
              "       [     1,     49,  28000],\n",
              "       [     1,     23,  20000],\n",
              "       [     1,     32,  18000],\n",
              "       [     1,     60,  42000],\n",
              "       [     1,     19,  76000],\n",
              "       [     1,     36,  99000],\n",
              "       [     0,     19,  26000],\n",
              "       [     1,     60,  83000],\n",
              "       [     0,     24,  89000],\n",
              "       [     1,     27,  58000],\n",
              "       [     1,     40,  47000],\n",
              "       [     0,     42,  70000],\n",
              "       [     0,     32, 150000],\n",
              "       [     0,     35,  77000],\n",
              "       [     0,     22,  63000],\n",
              "       [     1,     45,  22000],\n",
              "       [     1,     27,  89000],\n",
              "       [     1,     18,  82000],\n",
              "       [     0,     42,  79000],\n",
              "       [     0,     40,  60000],\n",
              "       [     0,     53,  34000],\n",
              "       [     0,     47, 107000],\n",
              "       [     1,     58, 144000],\n",
              "       [     0,     59,  83000],\n",
              "       [     0,     24,  55000],\n",
              "       [     0,     26,  35000],\n",
              "       [     0,     58,  38000],\n",
              "       [     0,     42,  80000],\n",
              "       [     0,     40,  75000],\n",
              "       [     1,     59, 130000],\n",
              "       [     0,     46,  41000],\n",
              "       [     0,     41,  60000],\n",
              "       [     1,     42,  64000],\n",
              "       [     0,     37, 146000],\n",
              "       [     0,     23,  48000],\n",
              "       [     1,     25,  33000],\n",
              "       [     1,     24,  84000],\n",
              "       [     0,     27,  96000],\n",
              "       [     1,     23,  63000],\n",
              "       [     1,     48,  33000],\n",
              "       [     1,     48,  90000],\n",
              "       [     1,     42, 104000]])"
            ]
          },
          "metadata": {},
          "execution_count": 16
        }
      ]
    },
    {
      "cell_type": "code",
      "source": [],
      "metadata": {
        "id": "Sfq9GTOnotk6"
      },
      "execution_count": null,
      "outputs": []
    },
    {
      "cell_type": "markdown",
      "metadata": {
        "id": "AsfmGeH6lZ0O"
      },
      "source": [
        "**Feature Scaling**"
      ]
    },
    {
      "cell_type": "code",
      "metadata": {
        "id": "Xfifr6tlj77A"
      },
      "source": [
        "from sklearn.preprocessing import StandardScaler # importing the required function\n",
        "scaler = StandardScaler() #initialis\n",
        "scaler.fit(X_train) # find the values of mu and sigma\n",
        "X_train = scaler.transform(X_train)\n",
        "X_test = scaler.transform(X_test) #only transform the test dataset, dont fit it"
      ],
      "execution_count": null,
      "outputs": []
    },
    {
      "cell_type": "code",
      "source": [
        "X_train"
      ],
      "metadata": {
        "colab": {
          "base_uri": "https://localhost:8080/"
        },
        "id": "1J34cMrJo5jJ",
        "outputId": "c96a81a1-2d92-47aa-c7ab-be9bc3a6bd6c"
      },
      "execution_count": null,
      "outputs": [
        {
          "output_type": "execute_result",
          "data": {
            "text/plain": [
              "array([[-0.98019606,  0.58164944, -0.88670699],\n",
              "       [ 1.02020406, -0.60673761,  1.46173768],\n",
              "       [-0.98019606, -0.01254409, -0.5677824 ],\n",
              "       [-0.98019606, -0.60673761,  1.89663484],\n",
              "       [-0.98019606,  1.37390747, -1.40858358],\n",
              "       [-0.98019606,  1.47293972,  0.99784738],\n",
              "       [ 1.02020406,  0.08648817, -0.79972756],\n",
              "       [ 1.02020406, -0.01254409, -0.24885782],\n",
              "       [-0.98019606, -0.21060859, -0.5677824 ],\n",
              "       [-0.98019606, -0.21060859, -0.19087153],\n",
              "       [-0.98019606, -0.30964085, -1.29261101],\n",
              "       [ 1.02020406, -0.30964085, -0.5677824 ],\n",
              "       [ 1.02020406,  0.38358493,  0.09905991],\n",
              "       [-0.98019606,  0.8787462 , -0.59677555],\n",
              "       [-0.98019606,  2.06713324, -1.17663843],\n",
              "       [ 1.02020406,  1.07681071, -0.13288524],\n",
              "       [-0.98019606,  0.68068169,  1.78066227],\n",
              "       [-0.98019606, -0.70576986,  0.56295021],\n",
              "       [-0.98019606,  0.77971394,  0.35999821],\n",
              "       [-0.98019606,  0.8787462 , -0.53878926],\n",
              "       [ 1.02020406, -1.20093113, -1.58254245],\n",
              "       [ 1.02020406,  2.1661655 ,  0.93986109],\n",
              "       [-0.98019606, -0.01254409,  1.22979253],\n",
              "       [ 1.02020406,  0.18552042,  1.08482681],\n",
              "       [-0.98019606,  0.38358493, -0.48080297],\n",
              "       [ 1.02020406, -0.30964085, -0.30684411],\n",
              "       [ 1.02020406,  0.97777845, -0.8287207 ],\n",
              "       [-0.98019606,  0.97777845,  1.8676417 ],\n",
              "       [-0.98019606, -0.01254409,  1.25878567],\n",
              "       [ 1.02020406, -0.90383437,  2.27354572],\n",
              "       [-0.98019606, -1.20093113, -1.58254245],\n",
              "       [ 1.02020406,  2.1661655 , -0.79972756],\n",
              "       [ 1.02020406, -1.39899564, -1.46656987],\n",
              "       [ 1.02020406,  0.38358493,  2.30253886],\n",
              "       [-0.98019606,  0.77971394,  0.76590222],\n",
              "       [ 1.02020406, -1.00286662, -0.30684411],\n",
              "       [ 1.02020406,  0.08648817,  0.76590222],\n",
              "       [ 1.02020406, -1.00286662,  0.56295021],\n",
              "       [ 1.02020406,  0.28455268,  0.07006676],\n",
              "       [ 1.02020406,  0.68068169, -1.26361786],\n",
              "       [-0.98019606, -0.50770535, -0.01691267],\n",
              "       [-0.98019606, -1.79512465,  0.35999821],\n",
              "       [ 1.02020406, -0.70576986,  0.12805305],\n",
              "       [ 1.02020406,  0.38358493,  0.30201192],\n",
              "       [-0.98019606, -0.30964085,  0.07006676],\n",
              "       [-0.98019606, -0.50770535,  2.30253886],\n",
              "       [ 1.02020406,  0.18552042,  0.04107362],\n",
              "       [-0.98019606,  1.27487521,  2.21555943],\n",
              "       [ 1.02020406,  0.77971394,  0.27301877],\n",
              "       [ 1.02020406, -0.30964085,  0.1570462 ],\n",
              "       [ 1.02020406, -0.01254409, -0.53878926],\n",
              "       [-0.98019606, -0.21060859,  0.1570462 ],\n",
              "       [-0.98019606, -0.11157634,  0.24402563],\n",
              "       [ 1.02020406, -0.01254409, -0.24885782],\n",
              "       [-0.98019606,  2.1661655 ,  1.11381995],\n",
              "       [-0.98019606, -1.79512465,  0.35999821],\n",
              "       [ 1.02020406,  1.86906873,  0.12805305],\n",
              "       [ 1.02020406,  0.38358493, -0.13288524],\n",
              "       [ 1.02020406, -1.20093113,  0.30201192],\n",
              "       [ 1.02020406,  0.77971394,  1.37475825],\n",
              "       [ 1.02020406, -0.30964085, -0.24885782],\n",
              "       [-0.98019606, -1.6960924 , -0.04590581],\n",
              "       [-0.98019606, -1.00286662, -0.74174127],\n",
              "       [ 1.02020406,  0.28455268,  0.50496393],\n",
              "       [-0.98019606, -0.11157634, -1.06066585],\n",
              "       [ 1.02020406, -1.10189888,  0.59194336],\n",
              "       [ 1.02020406,  0.08648817, -0.79972756],\n",
              "       [ 1.02020406, -1.00286662,  1.54871711],\n",
              "       [-0.98019606, -0.70576986,  1.40375139],\n",
              "       [ 1.02020406, -1.29996338,  0.50496393],\n",
              "       [-0.98019606, -0.30964085,  0.04107362],\n",
              "       [ 1.02020406, -0.11157634,  0.01208048],\n",
              "       [ 1.02020406, -0.30964085, -0.88670699],\n",
              "       [ 1.02020406,  0.8787462 , -1.3505973 ],\n",
              "       [-0.98019606, -0.30964085,  2.24455257],\n",
              "       [-0.98019606,  0.97777845,  1.98361427],\n",
              "       [ 1.02020406, -1.20093113,  0.47597078],\n",
              "       [ 1.02020406, -1.29996338,  0.27301877],\n",
              "       [-0.98019606,  1.37390747,  1.98361427],\n",
              "       [ 1.02020406,  1.27487521, -1.3505973 ],\n",
              "       [-0.98019606, -0.30964085, -0.27785096],\n",
              "       [-0.98019606, -0.50770535,  1.25878567],\n",
              "       [ 1.02020406, -0.80480212,  1.08482681],\n",
              "       [ 1.02020406,  0.97777845, -1.06066585],\n",
              "       [-0.98019606,  0.28455268,  0.30201192],\n",
              "       [-0.98019606,  0.97777845,  0.76590222],\n",
              "       [ 1.02020406, -0.70576986, -1.49556302],\n",
              "       [-0.98019606, -0.70576986,  0.04107362],\n",
              "       [ 1.02020406,  0.48261718,  1.72267598],\n",
              "       [-0.98019606,  2.06713324,  0.18603934],\n",
              "       [-0.98019606, -1.99318916, -0.74174127],\n",
              "       [ 1.02020406, -0.21060859,  1.40375139],\n",
              "       [-0.98019606,  0.38358493,  0.59194336],\n",
              "       [-0.98019606,  0.8787462 , -1.14764529],\n",
              "       [-0.98019606, -1.20093113, -0.77073441],\n",
              "       [ 1.02020406,  0.18552042,  0.24402563],\n",
              "       [ 1.02020406,  0.77971394, -0.30684411],\n",
              "       [-0.98019606,  2.06713324, -0.79972756],\n",
              "       [-0.98019606,  0.77971394,  0.12805305],\n",
              "       [ 1.02020406, -0.30964085,  0.6209365 ],\n",
              "       [-0.98019606, -1.00286662, -0.30684411],\n",
              "       [ 1.02020406,  0.18552042, -0.3648304 ],\n",
              "       [ 1.02020406,  2.06713324,  2.12857999],\n",
              "       [-0.98019606,  1.86906873, -1.26361786],\n",
              "       [-0.98019606,  1.37390747, -0.91570013],\n",
              "       [-0.98019606,  0.8787462 ,  1.25878567],\n",
              "       [-0.98019606,  1.47293972,  2.12857999],\n",
              "       [ 1.02020406, -0.30964085, -1.23462472],\n",
              "       [-0.98019606,  1.96810099,  0.91086794],\n",
              "       [-0.98019606,  0.68068169, -0.71274813],\n",
              "       [-0.98019606, -1.49802789,  0.35999821],\n",
              "       [ 1.02020406,  0.77971394, -1.3505973 ],\n",
              "       [ 1.02020406,  0.38358493, -0.13288524],\n",
              "       [-0.98019606, -1.00286662,  0.41798449],\n",
              "       [ 1.02020406, -0.01254409, -0.30684411],\n",
              "       [-0.98019606, -1.20093113,  0.41798449],\n",
              "       [-0.98019606, -0.90383437, -1.20563157],\n",
              "       [-0.98019606, -0.11157634,  0.04107362],\n",
              "       [-0.98019606, -1.59706014, -0.42281668],\n",
              "       [-0.98019606,  0.97777845, -1.00267957],\n",
              "       [ 1.02020406,  1.07681071, -1.20563157],\n",
              "       [-0.98019606, -0.01254409, -0.13288524],\n",
              "       [-0.98019606, -1.10189888, -1.52455616],\n",
              "       [ 1.02020406,  0.77971394, -1.20563157],\n",
              "       [ 1.02020406,  0.97777845,  2.07059371],\n",
              "       [-0.98019606, -1.20093113, -1.52455616],\n",
              "       [-0.98019606, -0.30964085,  0.79489537],\n",
              "       [-0.98019606,  0.08648817, -0.30684411],\n",
              "       [-0.98019606, -1.39899564, -1.23462472],\n",
              "       [ 1.02020406, -0.60673761, -1.49556302],\n",
              "       [ 1.02020406,  0.77971394,  0.53395707],\n",
              "       [ 1.02020406, -0.30964085, -0.33583725],\n",
              "       [ 1.02020406,  1.77003648, -0.27785096],\n",
              "       [ 1.02020406,  0.8787462 , -1.03167271],\n",
              "       [-0.98019606,  0.18552042,  0.07006676],\n",
              "       [ 1.02020406, -0.60673761,  0.8818748 ],\n",
              "       [-0.98019606, -1.89415691, -1.40858358],\n",
              "       [ 1.02020406, -1.29996338,  0.59194336],\n",
              "       [ 1.02020406, -0.30964085,  0.53395707],\n",
              "       [ 1.02020406, -1.00286662, -1.089659  ],\n",
              "       [-0.98019606,  1.17584296, -1.43757673],\n",
              "       [ 1.02020406,  0.18552042, -0.30684411],\n",
              "       [-0.98019606,  1.17584296, -0.74174127],\n",
              "       [ 1.02020406, -0.30964085,  0.07006676],\n",
              "       [-0.98019606,  0.18552042,  2.09958685],\n",
              "       [-0.98019606,  0.77971394, -1.089659  ],\n",
              "       [-0.98019606,  0.08648817,  0.04107362],\n",
              "       [ 1.02020406, -1.79512465,  0.12805305],\n",
              "       [ 1.02020406, -0.90383437,  0.1570462 ],\n",
              "       [ 1.02020406, -0.70576986,  0.18603934],\n",
              "       [ 1.02020406,  0.8787462 , -1.29261101],\n",
              "       [ 1.02020406,  0.18552042, -0.24885782],\n",
              "       [ 1.02020406, -0.4086731 ,  1.22979253],\n",
              "       [-0.98019606, -0.01254409,  0.30201192],\n",
              "       [-0.98019606,  0.38358493,  0.1570462 ],\n",
              "       [-0.98019606,  0.8787462 , -0.65476184],\n",
              "       [-0.98019606,  0.08648817,  0.1570462 ],\n",
              "       [ 1.02020406, -1.89415691, -1.29261101],\n",
              "       [-0.98019606, -0.11157634,  0.30201192],\n",
              "       [ 1.02020406, -0.21060859, -0.27785096],\n",
              "       [ 1.02020406,  0.28455268, -0.50979612],\n",
              "       [ 1.02020406, -0.21060859,  1.6067034 ],\n",
              "       [-0.98019606,  0.97777845, -1.17663843],\n",
              "       [-0.98019606, -0.21060859,  1.63569655],\n",
              "       [-0.98019606,  1.27487521,  1.8676417 ],\n",
              "       [-0.98019606, -1.10189888, -0.3648304 ],\n",
              "       [ 1.02020406, -0.01254409,  0.04107362],\n",
              "       [-0.98019606,  0.08648817, -0.24885782],\n",
              "       [-0.98019606, -1.59706014, -1.23462472],\n",
              "       [-0.98019606, -0.50770535, -0.27785096],\n",
              "       [ 1.02020406,  0.97777845,  0.12805305],\n",
              "       [-0.98019606,  1.96810099, -1.3505973 ],\n",
              "       [ 1.02020406,  1.47293972,  0.07006676],\n",
              "       [-0.98019606, -0.60673761,  1.37475825],\n",
              "       [ 1.02020406,  1.57197197,  0.01208048],\n",
              "       [ 1.02020406, -0.80480212,  0.30201192],\n",
              "       [-0.98019606,  1.96810099,  0.73690908],\n",
              "       [-0.98019606, -1.20093113, -0.50979612],\n",
              "       [ 1.02020406,  0.68068169,  0.27301877],\n",
              "       [ 1.02020406, -1.39899564, -0.42281668],\n",
              "       [ 1.02020406,  0.18552042,  0.1570462 ],\n",
              "       [-0.98019606, -0.50770535, -1.20563157],\n",
              "       [-0.98019606,  0.58164944,  2.01260742],\n",
              "       [ 1.02020406, -1.59706014, -1.49556302],\n",
              "       [-0.98019606, -0.50770535, -0.53878926],\n",
              "       [-0.98019606,  0.48261718,  1.83864855],\n",
              "       [-0.98019606, -1.39899564, -1.089659  ],\n",
              "       [-0.98019606,  0.77971394, -1.37959044],\n",
              "       [ 1.02020406, -0.30964085, -0.42281668],\n",
              "       [-0.98019606,  1.57197197,  0.99784738],\n",
              "       [-0.98019606,  0.97777845,  1.43274454],\n",
              "       [ 1.02020406, -0.30964085, -0.48080297],\n",
              "       [ 1.02020406, -0.11157634,  2.15757314],\n",
              "       [-0.98019606, -1.49802789, -0.1038921 ],\n",
              "       [-0.98019606, -0.11157634,  1.95462113],\n",
              "       [ 1.02020406, -0.70576986, -0.33583725],\n",
              "       [-0.98019606, -0.50770535, -0.8287207 ],\n",
              "       [-0.98019606,  0.68068169, -1.37959044],\n",
              "       [ 1.02020406, -0.80480212, -1.58254245],\n",
              "       [ 1.02020406, -1.89415691, -1.46656987],\n",
              "       [ 1.02020406,  1.07681071,  0.12805305],\n",
              "       [ 1.02020406,  0.08648817,  1.51972397],\n",
              "       [ 1.02020406, -0.30964085,  0.09905991],\n",
              "       [ 1.02020406,  0.08648817,  0.04107362],\n",
              "       [ 1.02020406, -1.39899564, -1.3505973 ],\n",
              "       [-0.98019606,  0.28455268,  0.07006676],\n",
              "       [-0.98019606, -0.90383437,  0.38899135],\n",
              "       [-0.98019606,  1.57197197, -1.26361786],\n",
              "       [-0.98019606, -0.30964085, -0.74174127],\n",
              "       [ 1.02020406, -0.11157634,  0.1570462 ],\n",
              "       [-0.98019606, -0.90383437, -0.65476184],\n",
              "       [-0.98019606, -0.70576986, -0.04590581],\n",
              "       [ 1.02020406,  0.38358493, -0.45180983],\n",
              "       [ 1.02020406, -0.80480212,  1.89663484],\n",
              "       [-0.98019606,  1.37390747,  1.28777882],\n",
              "       [-0.98019606,  1.17584296, -0.97368642],\n",
              "       [ 1.02020406,  1.77003648,  1.83864855],\n",
              "       [ 1.02020406, -0.90383437, -0.24885782],\n",
              "       [ 1.02020406, -0.80480212,  0.56295021],\n",
              "       [ 1.02020406, -1.20093113, -1.5535493 ],\n",
              "       [ 1.02020406, -0.50770535, -1.11865214],\n",
              "       [-0.98019606,  0.28455268,  0.07006676],\n",
              "       [ 1.02020406, -0.21060859, -1.06066585],\n",
              "       [-0.98019606,  1.67100423,  1.6067034 ],\n",
              "       [-0.98019606,  0.97777845,  1.78066227],\n",
              "       [-0.98019606,  0.28455268,  0.04107362],\n",
              "       [-0.98019606, -0.80480212, -0.21986468],\n",
              "       [ 1.02020406, -0.11157634,  0.07006676],\n",
              "       [-0.98019606,  0.28455268, -0.19087153],\n",
              "       [-0.98019606,  1.96810099, -0.65476184],\n",
              "       [-0.98019606, -0.80480212,  1.3457651 ],\n",
              "       [ 1.02020406, -1.79512465, -0.59677555],\n",
              "       [ 1.02020406, -0.11157634,  0.12805305],\n",
              "       [ 1.02020406,  0.28455268, -0.30684411],\n",
              "       [ 1.02020406,  1.07681071,  0.56295021],\n",
              "       [ 1.02020406, -1.00286662,  0.27301877],\n",
              "       [-0.98019606,  1.47293972,  0.35999821],\n",
              "       [ 1.02020406,  0.18552042, -0.3648304 ],\n",
              "       [ 1.02020406,  2.1661655 , -1.03167271],\n",
              "       [ 1.02020406, -0.30964085,  1.11381995],\n",
              "       [ 1.02020406, -1.6960924 ,  0.07006676],\n",
              "       [ 1.02020406, -0.01254409,  0.04107362],\n",
              "       [ 1.02020406,  0.08648817,  1.05583366],\n",
              "       [-0.98019606, -0.11157634, -0.3648304 ],\n",
              "       [-0.98019606, -1.20093113,  0.07006676],\n",
              "       [-0.98019606, -0.30964085, -1.3505973 ],\n",
              "       [-0.98019606,  1.57197197,  1.11381995],\n",
              "       [ 1.02020406, -0.80480212, -1.52455616],\n",
              "       [ 1.02020406,  0.08648817,  1.8676417 ],\n",
              "       [ 1.02020406, -0.90383437, -0.77073441],\n",
              "       [ 1.02020406, -0.50770535, -0.77073441],\n",
              "       [ 1.02020406, -0.30964085, -0.91570013],\n",
              "       [ 1.02020406,  0.28455268, -0.71274813],\n",
              "       [-0.98019606,  0.28455268,  0.07006676],\n",
              "       [-0.98019606,  0.08648817,  1.8676417 ],\n",
              "       [-0.98019606, -1.10189888,  1.95462113],\n",
              "       [-0.98019606, -1.6960924 , -1.5535493 ],\n",
              "       [ 1.02020406, -1.20093113, -1.089659  ],\n",
              "       [ 1.02020406, -0.70576986, -0.1038921 ],\n",
              "       [-0.98019606,  0.08648817,  0.09905991],\n",
              "       [ 1.02020406,  0.28455268,  0.27301877],\n",
              "       [-0.98019606,  0.8787462 , -0.5677824 ],\n",
              "       [-0.98019606,  0.28455268, -1.14764529],\n",
              "       [-0.98019606, -0.11157634,  0.67892279],\n",
              "       [-0.98019606,  2.1661655 , -0.68375498],\n",
              "       [ 1.02020406, -1.29996338, -1.37959044],\n",
              "       [-0.98019606, -1.00286662, -0.94469328],\n",
              "       [-0.98019606, -0.01254409, -0.42281668],\n",
              "       [-0.98019606, -0.21060859, -0.45180983],\n",
              "       [-0.98019606, -1.79512465, -0.97368642],\n",
              "       [-0.98019606,  1.77003648,  0.99784738],\n",
              "       [ 1.02020406,  0.18552042, -0.3648304 ],\n",
              "       [-0.98019606,  0.38358493,  1.11381995],\n",
              "       [-0.98019606, -1.79512465, -1.3505973 ],\n",
              "       [ 1.02020406,  0.18552042, -0.13288524],\n",
              "       [ 1.02020406,  0.8787462 , -1.43757673],\n",
              "       [-0.98019606, -1.99318916,  0.47597078],\n",
              "       [ 1.02020406, -0.30964085,  0.27301877],\n",
              "       [-0.98019606,  1.86906873, -1.06066585],\n",
              "       [-0.98019606, -0.4086731 ,  0.07006676],\n",
              "       [-0.98019606,  1.07681071, -0.88670699],\n",
              "       [-0.98019606, -1.10189888, -1.11865214],\n",
              "       [ 1.02020406, -1.89415691,  0.01208048],\n",
              "       [-0.98019606,  0.08648817,  0.27301877],\n",
              "       [ 1.02020406, -1.20093113,  0.33100506],\n",
              "       [ 1.02020406, -1.29996338,  0.30201192],\n",
              "       [-0.98019606, -1.00286662,  0.44697764],\n",
              "       [ 1.02020406,  1.67100423, -0.88670699],\n",
              "       [-0.98019606,  1.17584296,  0.53395707],\n",
              "       [ 1.02020406,  1.07681071,  0.53395707],\n",
              "       [ 1.02020406,  1.37390747,  2.331532  ],\n",
              "       [-0.98019606, -0.30964085, -0.13288524],\n",
              "       [ 1.02020406,  0.38358493, -0.45180983],\n",
              "       [ 1.02020406, -0.4086731 , -0.77073441],\n",
              "       [ 1.02020406, -0.11157634, -0.50979612],\n",
              "       [-0.98019606,  0.97777845, -1.14764529],\n",
              "       [ 1.02020406, -0.90383437, -0.77073441],\n",
              "       [ 1.02020406, -0.21060859, -0.50979612],\n",
              "       [-0.98019606, -1.10189888, -0.45180983],\n",
              "       [-0.98019606, -1.20093113,  1.40375139]])"
            ]
          },
          "metadata": {},
          "execution_count": 20
        }
      ]
    },
    {
      "cell_type": "code",
      "source": [],
      "metadata": {
        "id": "mQgARCC1o5rg"
      },
      "execution_count": null,
      "outputs": []
    },
    {
      "cell_type": "markdown",
      "metadata": {
        "id": "UkiSpylklf7z"
      },
      "source": [
        "**Step 2 | Logistic Regression Model**"
      ]
    },
    {
      "cell_type": "markdown",
      "metadata": {
        "id": "rhZgd1t_mfYg"
      },
      "source": [
        "The library for this job which is going to be the linear model library and it is called linear because the logistic regression is a linear classifier which means that here since we're in two dimensions, our two categories of users are going to be separated by a straight line. Then import the logistic regression class. Next we will create a new object from this class which is going to be our classifier that we are going to fit on our training set."
      ]
    },
    {
      "cell_type": "markdown",
      "metadata": {
        "id": "oCUEcLBflmPn"
      },
      "source": [
        "**Fitting Logistic Regression to the Training set**"
      ]
    },
    {
      "cell_type": "code",
      "metadata": {
        "id": "l8YSpSphj8FN",
        "colab": {
          "base_uri": "https://localhost:8080/"
        },
        "outputId": "e66c0d76-c768-4161-c686-4a0a6ed2aecf"
      },
      "source": [
        "from sklearn.linear_model import LogisticRegression #main code that build the LR model \n",
        "logistic_regression= LogisticRegression() #initialise the required package\n",
        "logistic_regression.fit(X_train,y_train) #magic happens - best values of betas - training/learning happens here\n",
        "y_pred=logistic_regression.predict(X_test)\n",
        "\n",
        "y_pred"
      ],
      "execution_count": null,
      "outputs": [
        {
          "output_type": "execute_result",
          "data": {
            "text/plain": [
              "array([0, 0, 0, 0, 0, 0, 0, 1, 0, 1, 0, 0, 0, 0, 0, 0, 0, 0, 1, 0, 0, 1,\n",
              "       0, 1, 0, 1, 0, 0, 0, 0, 0, 0, 1, 0, 0, 0, 0, 0, 0, 1, 0, 0, 0, 0,\n",
              "       1, 0, 0, 1, 0, 1, 1, 0, 0, 0, 1, 0, 0, 0, 1, 0, 0, 1, 0, 0, 0, 1,\n",
              "       0, 0, 0, 0, 1, 0, 0, 0, 0, 0, 1, 0, 1, 1, 1, 1, 0, 0, 1, 1, 0, 1,\n",
              "       0, 0, 0, 1, 0, 0, 0, 0, 0, 0, 1, 1])"
            ]
          },
          "metadata": {},
          "execution_count": 21
        }
      ]
    },
    {
      "cell_type": "markdown",
      "metadata": {
        "id": "0DpkLwdRlvXX"
      },
      "source": [
        "**Step 3 | Predection**"
      ]
    },
    {
      "cell_type": "code",
      "metadata": {
        "id": "5X1PxviQlp0C",
        "colab": {
          "base_uri": "https://localhost:8080/"
        },
        "outputId": "6173ef30-9883-4882-f02a-2a5f9f2cf0a7"
      },
      "source": [
        "y_pred"
      ],
      "execution_count": null,
      "outputs": [
        {
          "output_type": "execute_result",
          "data": {
            "text/plain": [
              "array([0, 0, 0, 0, 0, 0, 0, 1, 0, 1, 0, 0, 0, 0, 0, 0, 0, 0, 1, 0, 0, 1,\n",
              "       0, 1, 0, 1, 0, 0, 0, 0, 0, 0, 1, 0, 0, 0, 0, 0, 0, 1, 0, 0, 0, 0,\n",
              "       1, 0, 0, 1, 0, 1, 1, 0, 0, 0, 1, 0, 0, 0, 1, 0, 0, 1, 0, 0, 0, 1,\n",
              "       0, 0, 0, 0, 1, 0, 0, 0, 0, 0, 1, 0, 1, 1, 1, 1, 0, 0, 1, 1, 0, 1,\n",
              "       0, 0, 0, 1, 0, 0, 0, 0, 0, 0, 1, 1])"
            ]
          },
          "metadata": {},
          "execution_count": 22
        }
      ]
    },
    {
      "cell_type": "code",
      "source": [
        "logistic_regression.predict_proba(X_test)"
      ],
      "metadata": {
        "colab": {
          "base_uri": "https://localhost:8080/"
        },
        "id": "Hn-ywy5cpZFT",
        "outputId": "0d14cf1a-892b-4acc-b5f6-a3a22cd4c331"
      },
      "execution_count": null,
      "outputs": [
        {
          "output_type": "execute_result",
          "data": {
            "text/plain": [
              "array([[0.87943714, 0.12056286],\n",
              "       [0.84745824, 0.15254176],\n",
              "       [0.79219438, 0.20780562],\n",
              "       [0.91949173, 0.08050827],\n",
              "       [0.91193404, 0.08806596],\n",
              "       [0.99168292, 0.00831708],\n",
              "       [0.98663923, 0.01336077],\n",
              "       [0.24871574, 0.75128426],\n",
              "       [0.99494675, 0.00505325],\n",
              "       [0.47116463, 0.52883537],\n",
              "       [0.96152811, 0.03847189],\n",
              "       [0.97412746, 0.02587254],\n",
              "       [0.82795957, 0.17204043],\n",
              "       [0.60900956, 0.39099044],\n",
              "       [0.98361894, 0.01638106],\n",
              "       [0.6875859 , 0.3124141 ],\n",
              "       [0.70229903, 0.29770097],\n",
              "       [0.98706858, 0.01293142],\n",
              "       [0.01205309, 0.98794691],\n",
              "       [0.95503232, 0.04496768],\n",
              "       [0.91943567, 0.08056433],\n",
              "       [0.03918315, 0.96081685],\n",
              "       [0.74263653, 0.25736347],\n",
              "       [0.10671587, 0.89328413],\n",
              "       [0.99609335, 0.00390665],\n",
              "       [0.02882025, 0.97117975],\n",
              "       [0.93030086, 0.06969914],\n",
              "       [0.91845387, 0.08154613],\n",
              "       [0.82251383, 0.17748617],\n",
              "       [0.8573546 , 0.1426454 ],\n",
              "       [0.97860013, 0.02139987],\n",
              "       [0.68857265, 0.31142735],\n",
              "       [0.06054053, 0.93945947],\n",
              "       [0.83699672, 0.16300328],\n",
              "       [0.98481708, 0.01518292],\n",
              "       [0.99635986, 0.00364014],\n",
              "       [0.97900046, 0.02099954],\n",
              "       [0.94113797, 0.05886203],\n",
              "       [0.97554686, 0.02445314],\n",
              "       [0.47136993, 0.52863007],\n",
              "       [0.92939164, 0.07060836],\n",
              "       [0.6980901 , 0.3019099 ],\n",
              "       [0.94765341, 0.05234659],\n",
              "       [0.95773518, 0.04226482],\n",
              "       [0.20878592, 0.79121408],\n",
              "       [0.97676751, 0.02323249],\n",
              "       [0.72114284, 0.27885716],\n",
              "       [0.07675124, 0.92324876],\n",
              "       [0.99066473, 0.00933527],\n",
              "       [0.12740382, 0.87259618],\n",
              "       [0.01033156, 0.98966844],\n",
              "       [0.96627563, 0.03372437],\n",
              "       [0.89193198, 0.10806802],\n",
              "       [0.56204432, 0.43795568],\n",
              "       [0.02032378, 0.97967622],\n",
              "       [0.65839092, 0.34160908],\n",
              "       [0.92507524, 0.07492476],\n",
              "       [0.96206805, 0.03793195],\n",
              "       [0.48888284, 0.51111716],\n",
              "       [0.99635711, 0.00364289],\n",
              "       [0.97829162, 0.02170838],\n",
              "       [0.05834118, 0.94165882],\n",
              "       [0.99030831, 0.00969169],\n",
              "       [0.58731196, 0.41268804],\n",
              "       [0.9984001 , 0.0015999 ],\n",
              "       [0.01614223, 0.98385777],\n",
              "       [0.96632495, 0.03367505],\n",
              "       [0.97206675, 0.02793325],\n",
              "       [0.76991237, 0.23008763],\n",
              "       [0.55883008, 0.44116992],\n",
              "       [0.43030905, 0.56969095],\n",
              "       [0.81191153, 0.18808847],\n",
              "       [0.99018963, 0.00981037],\n",
              "       [0.72714925, 0.27285075],\n",
              "       [0.92723515, 0.07276485],\n",
              "       [0.99043337, 0.00956663],\n",
              "       [0.48619047, 0.51380953],\n",
              "       [0.72623613, 0.27376387],\n",
              "       [0.29316359, 0.70683641],\n",
              "       [0.11915469, 0.88084531],\n",
              "       [0.00342992, 0.99657008],\n",
              "       [0.02381369, 0.97618631],\n",
              "       [0.98855394, 0.01144606],\n",
              "       [0.99091162, 0.00908838],\n",
              "       [0.11430567, 0.88569433],\n",
              "       [0.47809911, 0.52190089],\n",
              "       [0.61998787, 0.38001213],\n",
              "       [0.00438297, 0.99561703],\n",
              "       [0.58564608, 0.41435392],\n",
              "       [0.68309888, 0.31690112],\n",
              "       [0.56014981, 0.43985019],\n",
              "       [0.23348121, 0.76651879],\n",
              "       [0.992557  , 0.007443  ],\n",
              "       [0.9916318 , 0.0083682 ],\n",
              "       [0.96543343, 0.03456657],\n",
              "       [0.92464586, 0.07535414],\n",
              "       [0.98548294, 0.01451706],\n",
              "       [0.50026149, 0.49973851],\n",
              "       [0.13632183, 0.86367817],\n",
              "       [0.25835616, 0.74164384]])"
            ]
          },
          "metadata": {},
          "execution_count": 23
        }
      ]
    },
    {
      "cell_type": "code",
      "source": [
        "logistic_regression.intercept_"
      ],
      "metadata": {
        "colab": {
          "base_uri": "https://localhost:8080/"
        },
        "id": "DPMRbm2VphQ5",
        "outputId": "491dd4e0-02f7-4664-dd55-2cc81b9be3ab"
      },
      "execution_count": null,
      "outputs": [
        {
          "output_type": "execute_result",
          "data": {
            "text/plain": [
              "array([-0.96121116])"
            ]
          },
          "metadata": {},
          "execution_count": 24
        }
      ]
    },
    {
      "cell_type": "code",
      "source": [
        "logistic_regression.coef_"
      ],
      "metadata": {
        "colab": {
          "base_uri": "https://localhost:8080/"
        },
        "id": "6Yd-iFSXphTp",
        "outputId": "30407b11-d7ff-4e90-b6b8-351cf73bf380"
      },
      "execution_count": null,
      "outputs": [
        {
          "output_type": "execute_result",
          "data": {
            "text/plain": [
              "array([[0.09452625, 2.09587724, 1.11776434]])"
            ]
          },
          "metadata": {},
          "execution_count": 25
        }
      ]
    },
    {
      "cell_type": "markdown",
      "metadata": {
        "id": "vdX1IU-Fl7Ak"
      },
      "source": [
        "**Step 4 | Evaluating The Predection**"
      ]
    },
    {
      "cell_type": "markdown",
      "metadata": {
        "id": "zPdZLTTQmqa9"
      },
      "source": [
        "We predicted the test results and now we will evaluate if our logistic regression model learned and understood correctly. So this confusion matrix is going to contain the correct predictions that our model made on the set as well as the incorrect predictions."
      ]
    },
    {
      "cell_type": "code",
      "source": [
        "from sklearn.metrics import plot_roc_curve, roc_curve, roc_auc_score, confusion_matrix, f1_score\n",
        "#confusion_matrix(y_test,y_pred)\n",
        "#f1_score(y_test,y_pred)\n",
        "# fpr, tpr, thresholds = roc_curve(y_test, y_test_predictions, pos_label=2)\n",
        "plot_roc_curve(logistic_regression, X_test, y_test)\n"
      ],
      "metadata": {
        "colab": {
          "base_uri": "https://localhost:8080/",
          "height": 354
        },
        "id": "TON8MzSmqGiz",
        "outputId": "9560fef8-bffc-4676-8219-a484298fc920"
      },
      "execution_count": null,
      "outputs": [
        {
          "output_type": "stream",
          "name": "stderr",
          "text": [
            "/usr/local/lib/python3.7/dist-packages/sklearn/utils/deprecation.py:87: FutureWarning: Function plot_roc_curve is deprecated; Function :func:`plot_roc_curve` is deprecated in 1.0 and will be removed in 1.2. Use one of the class methods: :meth:`sklearn.metric.RocCurveDisplay.from_predictions` or :meth:`sklearn.metric.RocCurveDisplay.from_estimator`.\n",
            "  warnings.warn(msg, category=FutureWarning)\n"
          ]
        },
        {
          "output_type": "execute_result",
          "data": {
            "text/plain": [
              "<sklearn.metrics._plot.roc_curve.RocCurveDisplay at 0x7fdbe7875090>"
            ]
          },
          "metadata": {},
          "execution_count": 26
        },
        {
          "output_type": "display_data",
          "data": {
            "text/plain": [
              "<Figure size 432x288 with 1 Axes>"
            ],
            "image/png": "[encoded data removed]"
          },
          "metadata": {
            "needs_background": "light"
          }
        }
      ]
    },
    {
      "cell_type": "code",
      "source": [],
      "metadata": {
        "id": "O0-9x1E7qGl5"
      },
      "execution_count": null,
      "outputs": []
    },
    {
      "cell_type": "markdown",
      "metadata": {
        "id": "bxjKgSYvmBDn"
      },
      "source": [
        "**Making the Confusion Matrix**"
      ]
    },
    {
      "cell_type": "code",
      "metadata": {
        "id": "2_afjfcjlp88",
        "colab": {
          "base_uri": "https://localhost:8080/",
          "height": 297
        },
        "outputId": "69ac1491-de92-4392-b850-82f303fe1067"
      },
      "source": [
        "confusion_matrix = pd.crosstab(y_test, y_pred, rownames=['Actual'], colnames=['Predicted'])\n",
        "sn.heatmap(confusion_matrix, annot=True)"
      ],
      "execution_count": null,
      "outputs": [
        {
          "output_type": "execute_result",
          "data": {
            "text/plain": [
              "<matplotlib.axes._subplots.AxesSubplot at 0x7fdbe78755d0>"
            ]
          },
          "metadata": {},
          "execution_count": 27
        },
        {
          "output_type": "display_data",
          "data": {
            "text/plain": [
              "<Figure size 432x288 with 2 Axes>"
            ],
            "image/png": "[encoded data removed]"
          },
          "metadata": {
            "needs_background": "light"
          }
        }
      ]
    },
    {
      "cell_type": "markdown",
      "metadata": {
        "id": "DARs2T8GmG3v"
      },
      "source": [
        "**Visualization**"
      ]
    },
    {
      "cell_type": "code",
      "source": [
        "df.head()"
      ],
      "metadata": {
        "colab": {
          "base_uri": "https://localhost:8080/",
          "height": 206
        },
        "id": "Q3IpO-5DsRjF",
        "outputId": "f35f8c49-cec2-463b-e854-670a47aba96d"
      },
      "execution_count": null,
      "outputs": [
        {
          "output_type": "execute_result",
          "data": {
            "text/plain": [
              "   Gender  Age  EstimatedSalary  Purchased\n",
              "0       1   19            19000          0\n",
              "1       1   35            20000          0\n",
              "2       0   26            43000          0\n",
              "3       0   27            57000          0\n",
              "4       1   19            76000          0"
            ],
            "text/html": [
              "\n",
              "  <div id=\"df-dee8a442-1518-4bfe-80e7-ab3eb8c535ef\">\n",
              "    <div class=\"colab-df-container\">\n",
              "      <div>\n",
              "<style scoped>\n",
              "    .dataframe tbody tr th:only-of-type {\n",
              "        vertical-align: middle;\n",
              "    }\n",
              "\n",
              "    .dataframe tbody tr th {\n",
              "        vertical-align: top;\n",
              "    }\n",
              "\n",
              "    .dataframe thead th {\n",
              "        text-align: right;\n",
              "    }\n",
              "</style>\n",
              "<table border=\"1\" class=\"dataframe\">\n",
              "  <thead>\n",
              "    <tr style=\"text-align: right;\">\n",
              "      <th></th>\n",
              "      <th>Gender</th>\n",
              "      <th>Age</th>\n",
              "      <th>EstimatedSalary</th>\n",
              "      <th>Purchased</th>\n",
              "    </tr>\n",
              "  </thead>\n",
              "  <tbody>\n",
              "    <tr>\n",
              "      <th>0</th>\n",
              "      <td>1</td>\n",
              "      <td>19</td>\n",
              "      <td>19000</td>\n",
              "      <td>0</td>\n",
              "    </tr>\n",
              "    <tr>\n",
              "      <th>1</th>\n",
              "      <td>1</td>\n",
              "      <td>35</td>\n",
              "      <td>20000</td>\n",
              "      <td>0</td>\n",
              "    </tr>\n",
              "    <tr>\n",
              "      <th>2</th>\n",
              "      <td>0</td>\n",
              "      <td>26</td>\n",
              "      <td>43000</td>\n",
              "      <td>0</td>\n",
              "    </tr>\n",
              "    <tr>\n",
              "      <th>3</th>\n",
              "      <td>0</td>\n",
              "      <td>27</td>\n",
              "      <td>57000</td>\n",
              "      <td>0</td>\n",
              "    </tr>\n",
              "    <tr>\n",
              "      <th>4</th>\n",
              "      <td>1</td>\n",
              "      <td>19</td>\n",
              "      <td>76000</td>\n",
              "      <td>0</td>\n",
              "    </tr>\n",
              "  </tbody>\n",
              "</table>\n",
              "</div>\n",
              "      <button class=\"colab-df-convert\" onclick=\"convertToInteractive('df-dee8a442-1518-4bfe-80e7-ab3eb8c535ef')\"\n",
              "              title=\"Convert this dataframe to an interactive table.\"\n",
              "              style=\"display:none;\">\n",
              "        \n",
              "  <svg xmlns=\"http://www.w3.org/2000/svg\" height=\"24px\"viewBox=\"0 0 24 24\"\n",
              "       width=\"24px\">\n",
              "    <path d=\"M0 0h24v24H0V0z\" fill=\"none\"/>\n",
              "    <path d=\"M18.56 5.44l.94 2.06.94-2.06 2.06-.94-2.06-.94-.94-2.06-.94 2.06-2.06.94zm-11 1L8.5 8.5l.94-2.06 2.06-.94-2.06-.94L8.5 2.5l-.94 2.06-2.06.94zm10 10l.94 2.06.94-2.06 2.06-.94-2.06-.94-.94-2.06-.94 2.06-2.06.94z\"/><path d=\"M17.41 7.96l-1.37-1.37c-.4-.4-.92-.59-1.43-.59-.52 0-1.04.2-1.43.59L10.3 9.45l-7.72 7.72c-.78.78-.78 2.05 0 2.83L4 21.41c.39.39.9.59 1.41.59.51 0 1.02-.2 1.41-.59l7.78-7.78 2.81-2.81c.8-.78.8-2.07 0-2.86zM5.41 20L4 18.59l7.72-7.72 1.47 1.35L5.41 20z\"/>\n",
              "  </svg>\n",
              "      </button>\n",
              "      \n",
              "  <style>\n",
              "    .colab-df-container {\n",
              "      display:flex;\n",
              "      flex-wrap:wrap;\n",
              "      gap: 12px;\n",
              "    }\n",
              "\n",
              "    .colab-df-convert {\n",
              "      background-color: #E8F0FE;\n",
              "      border: none;\n",
              "      border-radius: 50%;\n",
              "      cursor: pointer;\n",
              "      display: none;\n",
              "      fill: #1967D2;\n",
              "      height: 32px;\n",
              "      padding: 0 0 0 0;\n",
              "      width: 32px;\n",
              "    }\n",
              "\n",
              "    .colab-df-convert:hover {\n",
              "      background-color: #E2EBFA;\n",
              "      box-shadow: 0px 1px 2px rgba(60, 64, 67, 0.3), 0px 1px 3px 1px rgba(60, 64, 67, 0.15);\n",
              "      fill: #174EA6;\n",
              "    }\n",
              "\n",
              "    [theme=dark] .colab-df-convert {\n",
              "      background-color: #3B4455;\n",
              "      fill: #D2E3FC;\n",
              "    }\n",
              "\n",
              "    [theme=dark] .colab-df-convert:hover {\n",
              "      background-color: #434B5C;\n",
              "      box-shadow: 0px 1px 3px 1px rgba(0, 0, 0, 0.15);\n",
              "      filter: drop-shadow(0px 1px 2px rgba(0, 0, 0, 0.3));\n",
              "      fill: #FFFFFF;\n",
              "    }\n",
              "  </style>\n",
              "\n",
              "      <script>\n",
              "        const buttonEl =\n",
              "          document.querySelector('#df-dee8a442-1518-4bfe-80e7-ab3eb8c535ef button.colab-df-convert');\n",
              "        buttonEl.style.display =\n",
              "          google.colab.kernel.accessAllowed ? 'block' : 'none';\n",
              "\n",
              "        async function convertToInteractive(key) {\n",
              "          const element = document.querySelector('#df-dee8a442-1518-4bfe-80e7-ab3eb8c535ef');\n",
              "          const dataTable =\n",
              "            await google.colab.kernel.invokeFunction('convertToInteractive',\n",
              "                                                     [key], {});\n",
              "          if (!dataTable) return;\n",
              "\n",
              "          const docLinkHtml = 'Like what you see? Visit the ' +\n",
              "            '<a target=\"_blank\" href=https://colab.research.google.com/notebooks/data_table.ipynb>data table notebook</a>'\n",
              "            + ' to learn more about interactive tables.';\n",
              "          element.innerHTML = '';\n",
              "          dataTable['output_type'] = 'display_data';\n",
              "          await google.colab.output.renderOutput(dataTable, element);\n",
              "          const docLink = document.createElement('div');\n",
              "          docLink.innerHTML = docLinkHtml;\n",
              "          element.appendChild(docLink);\n",
              "        }\n",
              "      </script>\n",
              "    </div>\n",
              "  </div>\n",
              "  "
            ]
          },
          "metadata": {},
          "execution_count": 28
        }
      ]
    },
    {
      "cell_type": "code",
      "metadata": {
        "id": "v_qMnhVilqBW"
      },
      "source": [
        "import matplotlib.pyplot as plt\n",
        "import pandas as pd\n",
        "import numpy as np\n",
        "from sklearn.neighbors import KNeighborsClassifier, KNeighborsRegressor\n",
        "#from sklearn import datasets, neighbors\n",
        "from sklearn.linear_model import LogisticRegression\n",
        "from mlxtend.plotting import plot_decision_regions\n",
        "from sklearn.model_selection import cross_val_score # import all the functions reqd for cross validation"
      ],
      "execution_count": null,
      "outputs": []
    },
    {
      "cell_type": "code",
      "metadata": {
        "id": "QBiu7oxRlqGj",
        "colab": {
          "base_uri": "https://localhost:8080/",
          "height": 444
        },
        "outputId": "da1897e3-9ada-448e-b59f-56edb6ad49a9"
      },
      "source": [
        "x = df[['Age','EstimatedSalary']].values\n",
        "y = df['Purchased'].values\n",
        "clf = LogisticRegression()\n",
        "clf.fit(x, y)\n",
        "print(clf.score(x,y))\n",
        "print(\"Train Accuracy : \", clf.score(x,y)) # test the model and it computes the accuracy (train data accuracy)\n",
        "print(\"Val Accuracy : \", np.mean(cross_val_score(clf, x, y, cv=5)))\n",
        "plot_decision_regions(x, y, clf=clf, legend=2)\n",
        "# Adding axes annotations\n",
        "plt.xlabel('X')\n",
        "plt.ylabel('Y')\n",
        "plt.title('Losgistic Regression decision boundary')\n",
        "plt.show()"
      ],
      "execution_count": null,
      "outputs": [
        {
          "output_type": "stream",
          "name": "stdout",
          "text": [
            "0.6425\n",
            "Train Accuracy :  0.6425\n",
            "Val Accuracy :  0.675\n"
          ]
        },
        {
          "output_type": "stream",
          "name": "stderr",
          "text": [
            "/usr/local/lib/python3.7/dist-packages/mlxtend/plotting/decision_regions.py:242: UserWarning: No contour levels were found within the data range.\n",
            "  antialiased=True)\n",
            "/usr/local/lib/python3.7/dist-packages/mlxtend/plotting/decision_regions.py:244: MatplotlibDeprecationWarning: Passing unsupported keyword arguments to axis() will raise a TypeError in 3.3.\n",
            "  ax.axis(xmin=xx.min(), xmax=xx.max(), y_min=yy.min(), y_max=yy.max())\n"
          ]
        },
        {
          "output_type": "display_data",
          "data": {
            "text/plain": [
              "<Figure size 432x288 with 1 Axes>"
            ],
            "image/png": "[encoded data removed]"
          },
          "metadata": {
            "needs_background": "light"
          }
        }
      ]
    },
    {
      "cell_type": "code",
      "source": [
        "x = df[['Age','EstimatedSalary']].values\n",
        "y = df['Purchased'].values\n",
        "clf = LogisticRegression()\n",
        "clf.fit(x, y)\n",
        "print(clf.score(x,y))\n",
        "print(\"Train Accuracy : \", clf.score(x,y)) # test the model and it computes the accuracy (train data accuracy)\n",
        "print(\"Val Accuracy : \", np.mean(cross_val_score(clf, x, y, cv=5)))\n",
        "plot_decision_regions(x, y, clf=clf, legend=2)\n",
        "# Adding axes annotations\n",
        "plt.xlabel('X')\n",
        "plt.ylabel('Y')\n",
        "plt.title('Losgistic Regression decision boundary')\n",
        "plt.show()"
      ],
      "metadata": {
        "colab": {
          "base_uri": "https://localhost:8080/",
          "height": 444
        },
        "id": "AdxaYbHW29Yt",
        "outputId": "e7309972-5e84-4731-ff41-9510948da367"
      },
      "execution_count": null,
      "outputs": [
        {
          "output_type": "stream",
          "name": "stdout",
          "text": [
            "0.6425\n",
            "Train Accuracy :  0.6425\n",
            "Val Accuracy :  0.675\n"
          ]
        },
        {
          "output_type": "stream",
          "name": "stderr",
          "text": [
            "/usr/local/lib/python3.7/dist-packages/mlxtend/plotting/decision_regions.py:242: UserWarning: No contour levels were found within the data range.\n",
            "  antialiased=True)\n",
            "/usr/local/lib/python3.7/dist-packages/mlxtend/plotting/decision_regions.py:244: MatplotlibDeprecationWarning: Passing unsupported keyword arguments to axis() will raise a TypeError in 3.3.\n",
            "  ax.axis(xmin=xx.min(), xmax=xx.max(), y_min=yy.min(), y_max=yy.max())\n"
          ]
        },
        {
          "output_type": "display_data",
          "data": {
            "text/plain": [
              "<Figure size 432x288 with 1 Axes>"
            ],
            "image/png": "[encoded data removed]"
          },
          "metadata": {
            "needs_background": "light"
          }
        }
      ]
    },
    {
      "cell_type": "code",
      "source": [
        "def logistic(data, k = 0):\n",
        "  x = data[['Age','EstimatedSalary']].values\n",
        "  y = data['Purchased'].values\n",
        "  clf = LogisticRegression()\n",
        "  clf.fit(x, y)\n",
        "  print(clf.score(x,y))\n",
        "  print(\"Train Accuracy : \", clf.score(x,y)) # test the model and it computes the accuracy (train data accuracy)\n",
        "  print(\"Val Accuracy : \", np.mean(cross_val_score(clf, x, y, cv=5)))\n",
        "  # Plotting decision region\n",
        "  plot_decision_regions(x, y, clf=clf, legend=2)\n",
        "  # Adding axes annotations\n",
        "  plt.xlabel('X')\n",
        "  plt.ylabel('Y')\n",
        "  plt.title('Losgistic Regression decision boundary')\n",
        "  plt.show()"
      ],
      "metadata": {
        "id": "aDh-ZTjX3OmU"
      },
      "execution_count": null,
      "outputs": []
    },
    {
      "cell_type": "code",
      "source": [
        "logistic(df,1)"
      ],
      "metadata": {
        "colab": {
          "base_uri": "https://localhost:8080/",
          "height": 444
        },
        "id": "n80manGu3Oo_",
        "outputId": "d3b05e22-1ff8-428c-b068-5938ff0ee9e1"
      },
      "execution_count": null,
      "outputs": [
        {
          "output_type": "stream",
          "name": "stdout",
          "text": [
            "0.6425\n",
            "Train Accuracy :  0.6425\n",
            "Val Accuracy :  0.675\n"
          ]
        },
        {
          "output_type": "stream",
          "name": "stderr",
          "text": [
            "/usr/local/lib/python3.7/dist-packages/mlxtend/plotting/decision_regions.py:242: UserWarning: No contour levels were found within the data range.\n",
            "  antialiased=True)\n",
            "/usr/local/lib/python3.7/dist-packages/mlxtend/plotting/decision_regions.py:244: MatplotlibDeprecationWarning: Passing unsupported keyword arguments to axis() will raise a TypeError in 3.3.\n",
            "  ax.axis(xmin=xx.min(), xmax=xx.max(), y_min=yy.min(), y_max=yy.max())\n"
          ]
        },
        {
          "output_type": "display_data",
          "data": {
            "text/plain": [
              "<Figure size 432x288 with 1 Axes>"
            ],
            "image/png": "[encoded data removed]"
          },
          "metadata": {
            "needs_background": "light"
          }
        }
      ]
    },
    {
      "cell_type": "code",
      "metadata": {
        "id": "qLGVB79kj8KK"
      },
      "source": [],
      "execution_count": null,
      "outputs": []
    }
  ]
}